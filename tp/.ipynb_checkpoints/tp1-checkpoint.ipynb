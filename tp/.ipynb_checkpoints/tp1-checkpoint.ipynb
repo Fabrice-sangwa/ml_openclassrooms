{
 "cells": [
  {
   "cell_type": "code",
   "execution_count": 3,
   "id": "44e81610",
   "metadata": {},
   "outputs": [],
   "source": [
    "import numpy as np\n",
    "import pandas as pd\n",
    "import matplotlib.pyplot as plt"
   ]
  },
  {
   "cell_type": "code",
   "execution_count": 4,
   "id": "7c8b4ff7",
   "metadata": {},
   "outputs": [],
   "source": [
    "house_data = pd.read_csv('house_data.csv')"
   ]
  },
  {
   "cell_type": "code",
   "execution_count": null,
   "id": "bf1a2fdb",
   "metadata": {},
   "outputs": [],
   "source": [
    "house_data"
   ]
  }
 ],
 "metadata": {
  "kernelspec": {
   "display_name": "Python 3 (ipykernel)",
   "language": "python",
   "name": "python3"
  },
  "language_info": {
   "codemirror_mode": {
    "name": "ipython",
    "version": 3
   },
   "file_extension": ".py",
   "mimetype": "text/x-python",
   "name": "python",
   "nbconvert_exporter": "python",
   "pygments_lexer": "ipython3",
   "version": "3.9.13"
  }
 },
 "nbformat": 4,
 "nbformat_minor": 5
}
